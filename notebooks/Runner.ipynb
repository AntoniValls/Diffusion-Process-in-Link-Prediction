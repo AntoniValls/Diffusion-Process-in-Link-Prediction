{
 "cells": [
  {
   "cell_type": "code",
   "execution_count": 2,
   "id": "f2ac8068-000a-402c-aafb-e9745d4c2f01",
   "metadata": {},
   "outputs": [],
   "source": [
    "%load_ext autoreload\n",
    "%autoreload 2"
   ]
  },
  {
   "cell_type": "markdown",
   "id": "f69fd3a5-fa2f-4c5a-acb6-247c97f08467",
   "metadata": {},
   "source": [
    "## Training the models"
   ]
  },
  {
   "cell_type": "code",
   "execution_count": 3,
   "id": "077ae2ad-4119-48f3-84c4-9eeea427600d",
   "metadata": {},
   "outputs": [],
   "source": [
    "import os.path as osp\n",
    "import os\n",
    "import pickle\n",
    "import torch\n",
    "from tqdm import tqdm\n",
    "import torch_geometric.transforms as T\n",
    "from torch_geometric.datasets import Planetoid\n",
    "import argparse\n",
    "from models.train_gnn import train_and_predict\n",
    "from torch_geometric import seed_everything\n",
    "from utils.data_utils import data_loader"
   ]
  },
  {
   "cell_type": "code",
   "execution_count": 4,
   "id": "143afc46-6020-421b-a8eb-8d66c2213401",
   "metadata": {},
   "outputs": [],
   "source": [
    "def run_gnn_function(model_name_list, tgm_type, name, seed, epochs=200):\n",
    "    # check device\n",
    "    if torch.cuda.is_available():\n",
    "        device = torch.device('cuda')\n",
    "    elif hasattr(torch.backends, 'mps') and torch.backends.mps.is_available():\n",
    "        device = torch.device('mps')\n",
    "    else:\n",
    "        device = torch.device('cpu')\n",
    "    \n",
    "    # set seed\n",
    "    seed_everything(seed)\n",
    "    \n",
    "    # load data\n",
    "    transform = T.Compose([\n",
    "        T.NormalizeFeatures(),\n",
    "        T.ToDevice(device),\n",
    "        T.RandomLinkSplit(num_val=0.1, num_test=0.3, is_undirected=True,\n",
    "                          add_negative_train_samples=False),\n",
    "    ])\n",
    "    \n",
    "    dataset = data_loader(tgm_type=tgm_type, name=name, transform=transform)\n",
    "    \n",
    "    train_data, val_data, test_data = dataset[0]\n",
    "    n_features = dataset.num_features\n",
    "\n",
    "    # train model\n",
    "    for model_name in model_name_list:\n",
    "        print(f'Running {model_name}...')\n",
    "        mresult = train_and_predict(model_name=model_name,\n",
    "                                   train_data=train_data,\n",
    "                                   val_data=val_data,\n",
    "                                   test_data=test_data,\n",
    "                                   n_features=n_features,\n",
    "                                   device=device,\n",
    "                                   epochs=epochs,\n",
    "                                   seed=seed,\n",
    "                                   printer=False)\n",
    "            \n",
    "        # save outputs as pickle\n",
    "        output_dir = f'data/results/{model_name}'\n",
    "        os.makedirs(output_dir, exist_ok=True)\n",
    "        file_name = f\"{name}_seed_{seed}.pkl\"\n",
    "        outname = osp.join(output_dir, file_name)\n",
    "        \n",
    "        with open(outname, 'wb') as f:\n",
    "            pickle.dump(result, f)\n",
    "        \n",
    "        torch.cuda.empty_cache()\n"
   ]
  },
  {
   "cell_type": "code",
   "execution_count": 23,
   "id": "175eb515-243a-4d03-a572-d1008a452252",
   "metadata": {},
   "outputs": [
    {
     "name": "stdout",
     "output_type": "stream",
     "text": [
      "Seed number:0\n",
      "\n",
      "Running gcn...\n",
      "Final Test: 0.8595\n",
      "Running gat...\n",
      "Final Test: 0.7929\n",
      "Running supergat...\n",
      "Final Test: 0.7940\n",
      "Running sage...\n",
      "Final Test: 0.8280\n"
     ]
    }
   ],
   "source": [
    "model_name_list = [\"gcn\", \"gat\", \"supergat\", \"sage\"]\n",
    "tgm_type = \"Twitch\"\n",
    "name = \"ES\"\n",
    "for seed in range(1):\n",
    "    print(f'Seed number:{seed}\\n')\n",
    "    run_gnn_function(model_name_list, tgm_type, name, seed)\n"
   ]
  },
  {
   "cell_type": "markdown",
   "id": "da77230d-b5df-46dc-bc99-d8843bac63d3",
   "metadata": {},
   "source": [
    "## Running the simulations"
   ]
  },
  {
   "cell_type": "code",
   "execution_count": 7,
   "id": "52bc17ed-993a-4c60-bc7a-f9fd1b53f25a",
   "metadata": {},
   "outputs": [],
   "source": [
    "from utils.difffusion_evaluation import evaluate_dataset\n",
    "import os\n",
    "import os.path as osp\n",
    "import argparse\n",
    "import pickle"
   ]
  },
  {
   "cell_type": "code",
   "execution_count": 10,
   "id": "cd6330ed-941a-483b-85d2-f38218407b59",
   "metadata": {},
   "outputs": [],
   "source": [
    "def run_simulations_function(model_name_list, data, n_simulations, prob=0.5, paralell=True, eval_type=\"s\"):\n",
    "    if eval_type == \"s\" or eval_type == \"c\":\n",
    "        for model in model_name_list:\n",
    "            print(f'Running simulations on: {model}')\n",
    "            result = evaluate_dataset(model_name=model,\n",
    "                                      data_name=data,\n",
    "                                      eval_type=eval_type,\n",
    "                                      p=prob,\n",
    "                                      n_simulations=n_simulations,\n",
    "                                      paralell=paralell)\n",
    "            \n",
    "            output_dir = f'data/contagion/{model}/{eval_type}'\n",
    "            os.makedirs(output_dir, exist_ok=True)\n",
    "            file_name = f\"{data}_si_{n_simulations}_{prob}.pkl\"\n",
    "            outname = osp.join(output_dir, file_name)\n",
    "        \n",
    "            with open(outname, 'wb') as f:\n",
    "                pickle.dump(result, f)\n",
    "            \n",
    "    else:\n",
    "        raise ValueError(\"Unknown evaluation type. Use 's' for Simple Contagion or 'c' for Complex Contagion.\")\n"
   ]
  },
  {
   "cell_type": "code",
   "execution_count": 25,
   "id": "660ea505-c7fc-4975-bdea-a60d2e758f1d",
   "metadata": {},
   "outputs": [
    {
     "name": "stdout",
     "output_type": "stream",
     "text": [
      "Cora\n",
      "Running simulations on: gcn\n"
     ]
    },
    {
     "name": "stderr",
     "output_type": "stream",
     "text": [
      "Running evaluations: 100%|███████████████████████████████████████████████████████████| 100/100 [00:22<00:00,  4.38it/s]\n",
      "Running evaluations: 100%|███████████████████████████████████████████████████████████| 100/100 [00:19<00:00,  5.08it/s]\n"
     ]
    },
    {
     "name": "stdout",
     "output_type": "stream",
     "text": [
      "Running simulations on: gat\n"
     ]
    },
    {
     "name": "stderr",
     "output_type": "stream",
     "text": [
      "Running evaluations: 100%|███████████████████████████████████████████████████████████| 100/100 [00:18<00:00,  5.34it/s]\n",
      "Running evaluations: 100%|███████████████████████████████████████████████████████████| 100/100 [00:18<00:00,  5.44it/s]\n"
     ]
    },
    {
     "name": "stdout",
     "output_type": "stream",
     "text": [
      "Running simulations on: supergat\n"
     ]
    },
    {
     "name": "stderr",
     "output_type": "stream",
     "text": [
      "Running evaluations: 100%|███████████████████████████████████████████████████████████| 100/100 [00:19<00:00,  5.22it/s]\n",
      "Running evaluations: 100%|███████████████████████████████████████████████████████████| 100/100 [00:18<00:00,  5.42it/s]\n"
     ]
    },
    {
     "name": "stdout",
     "output_type": "stream",
     "text": [
      "Running simulations on: sage\n"
     ]
    },
    {
     "name": "stderr",
     "output_type": "stream",
     "text": [
      "Running evaluations: 100%|███████████████████████████████████████████████████████████| 100/100 [00:18<00:00,  5.45it/s]\n",
      "Running evaluations: 100%|███████████████████████████████████████████████████████████| 100/100 [00:18<00:00,  5.43it/s]\n"
     ]
    },
    {
     "name": "stdout",
     "output_type": "stream",
     "text": [
      "CiteSeer\n",
      "Running simulations on: gcn\n"
     ]
    },
    {
     "name": "stderr",
     "output_type": "stream",
     "text": [
      "Running evaluations: 100%|███████████████████████████████████████████████████████████| 100/100 [00:18<00:00,  5.35it/s]\n",
      "Running evaluations: 100%|███████████████████████████████████████████████████████████| 100/100 [00:18<00:00,  5.43it/s]\n"
     ]
    },
    {
     "name": "stdout",
     "output_type": "stream",
     "text": [
      "Running simulations on: gat\n"
     ]
    },
    {
     "name": "stderr",
     "output_type": "stream",
     "text": [
      "Running evaluations: 100%|███████████████████████████████████████████████████████████| 100/100 [00:18<00:00,  5.41it/s]\n",
      "Running evaluations: 100%|███████████████████████████████████████████████████████████| 100/100 [00:18<00:00,  5.31it/s]\n"
     ]
    },
    {
     "name": "stdout",
     "output_type": "stream",
     "text": [
      "Running simulations on: supergat\n"
     ]
    },
    {
     "name": "stderr",
     "output_type": "stream",
     "text": [
      "Running evaluations: 100%|███████████████████████████████████████████████████████████| 100/100 [00:18<00:00,  5.37it/s]\n",
      "Running evaluations: 100%|███████████████████████████████████████████████████████████| 100/100 [00:18<00:00,  5.43it/s]\n"
     ]
    },
    {
     "name": "stdout",
     "output_type": "stream",
     "text": [
      "Running simulations on: sage\n"
     ]
    },
    {
     "name": "stderr",
     "output_type": "stream",
     "text": [
      "Running evaluations: 100%|███████████████████████████████████████████████████████████| 100/100 [00:18<00:00,  5.41it/s]\n",
      "Running evaluations: 100%|███████████████████████████████████████████████████████████| 100/100 [00:18<00:00,  5.39it/s]\n"
     ]
    },
    {
     "name": "stdout",
     "output_type": "stream",
     "text": [
      "facebook\n",
      "Running simulations on: gcn\n"
     ]
    },
    {
     "name": "stderr",
     "output_type": "stream",
     "text": [
      "Running evaluations: 100%|███████████████████████████████████████████████████████████| 100/100 [01:13<00:00,  1.36it/s]\n",
      "Running evaluations: 100%|███████████████████████████████████████████████████████████| 100/100 [01:12<00:00,  1.38it/s]\n"
     ]
    },
    {
     "name": "stdout",
     "output_type": "stream",
     "text": [
      "Running simulations on: gat\n"
     ]
    },
    {
     "name": "stderr",
     "output_type": "stream",
     "text": [
      "Running evaluations: 100%|███████████████████████████████████████████████████████████| 100/100 [01:11<00:00,  1.40it/s]\n",
      "Running evaluations: 100%|███████████████████████████████████████████████████████████| 100/100 [01:11<00:00,  1.41it/s]\n"
     ]
    },
    {
     "name": "stdout",
     "output_type": "stream",
     "text": [
      "Running simulations on: supergat\n"
     ]
    },
    {
     "name": "stderr",
     "output_type": "stream",
     "text": [
      "Running evaluations: 100%|███████████████████████████████████████████████████████████| 100/100 [01:11<00:00,  1.41it/s]\n",
      "Running evaluations: 100%|███████████████████████████████████████████████████████████| 100/100 [01:12<00:00,  1.39it/s]\n"
     ]
    },
    {
     "name": "stdout",
     "output_type": "stream",
     "text": [
      "Running simulations on: sage\n"
     ]
    },
    {
     "name": "stderr",
     "output_type": "stream",
     "text": [
      "Running evaluations: 100%|███████████████████████████████████████████████████████████| 100/100 [01:13<00:00,  1.37it/s]\n",
      "Running evaluations: 100%|███████████████████████████████████████████████████████████| 100/100 [01:11<00:00,  1.40it/s]\n"
     ]
    },
    {
     "name": "stdout",
     "output_type": "stream",
     "text": [
      "wiki\n",
      "Running simulations on: gcn\n"
     ]
    },
    {
     "name": "stderr",
     "output_type": "stream",
     "text": [
      "Running evaluations: 100%|███████████████████████████████████████████████████████████| 100/100 [00:20<00:00,  4.88it/s]\n",
      "Running evaluations: 100%|███████████████████████████████████████████████████████████| 100/100 [00:20<00:00,  4.95it/s]\n"
     ]
    },
    {
     "name": "stdout",
     "output_type": "stream",
     "text": [
      "Running simulations on: gat\n"
     ]
    },
    {
     "name": "stderr",
     "output_type": "stream",
     "text": [
      "Running evaluations: 100%|███████████████████████████████████████████████████████████| 100/100 [00:19<00:00,  5.11it/s]\n",
      "Running evaluations: 100%|███████████████████████████████████████████████████████████| 100/100 [00:20<00:00,  4.97it/s]\n"
     ]
    },
    {
     "name": "stdout",
     "output_type": "stream",
     "text": [
      "Running simulations on: supergat\n"
     ]
    },
    {
     "name": "stderr",
     "output_type": "stream",
     "text": [
      "Running evaluations: 100%|███████████████████████████████████████████████████████████| 100/100 [00:20<00:00,  4.99it/s]\n",
      "Running evaluations: 100%|███████████████████████████████████████████████████████████| 100/100 [00:20<00:00,  4.86it/s]\n"
     ]
    },
    {
     "name": "stdout",
     "output_type": "stream",
     "text": [
      "Running simulations on: sage\n"
     ]
    },
    {
     "name": "stderr",
     "output_type": "stream",
     "text": [
      "Running evaluations: 100%|███████████████████████████████████████████████████████████| 100/100 [00:20<00:00,  4.97it/s]\n",
      "Running evaluations: 100%|███████████████████████████████████████████████████████████| 100/100 [00:20<00:00,  4.89it/s]\n"
     ]
    },
    {
     "name": "stdout",
     "output_type": "stream",
     "text": [
      "ES\n",
      "Running simulations on: gcn\n"
     ]
    },
    {
     "name": "stderr",
     "output_type": "stream",
     "text": [
      "Running evaluations: 100%|███████████████████████████████████████████████████████████| 100/100 [00:55<00:00,  1.80it/s]\n",
      "Running evaluations: 100%|███████████████████████████████████████████████████████████| 100/100 [00:55<00:00,  1.79it/s]\n"
     ]
    },
    {
     "name": "stdout",
     "output_type": "stream",
     "text": [
      "Running simulations on: gat\n"
     ]
    },
    {
     "name": "stderr",
     "output_type": "stream",
     "text": [
      "Running evaluations: 100%|███████████████████████████████████████████████████████████| 100/100 [00:52<00:00,  1.90it/s]\n",
      "Running evaluations: 100%|███████████████████████████████████████████████████████████| 100/100 [00:53<00:00,  1.88it/s]\n"
     ]
    },
    {
     "name": "stdout",
     "output_type": "stream",
     "text": [
      "Running simulations on: supergat\n"
     ]
    },
    {
     "name": "stderr",
     "output_type": "stream",
     "text": [
      "Running evaluations: 100%|███████████████████████████████████████████████████████████| 100/100 [00:53<00:00,  1.85it/s]\n",
      "Running evaluations: 100%|███████████████████████████████████████████████████████████| 100/100 [00:55<00:00,  1.80it/s]\n"
     ]
    },
    {
     "name": "stdout",
     "output_type": "stream",
     "text": [
      "Running simulations on: sage\n"
     ]
    },
    {
     "name": "stderr",
     "output_type": "stream",
     "text": [
      "Running evaluations: 100%|███████████████████████████████████████████████████████████| 100/100 [00:53<00:00,  1.87it/s]\n",
      "Running evaluations: 100%|███████████████████████████████████████████████████████████| 100/100 [00:54<00:00,  1.85it/s]\n"
     ]
    },
    {
     "name": "stdout",
     "output_type": "stream",
     "text": [
      "LastFMAsia\n",
      "Running simulations on: gcn\n"
     ]
    },
    {
     "name": "stderr",
     "output_type": "stream",
     "text": [
      "Running evaluations: 100%|███████████████████████████████████████████████████████████| 100/100 [00:36<00:00,  2.76it/s]\n",
      "Running evaluations: 100%|███████████████████████████████████████████████████████████| 100/100 [00:36<00:00,  2.77it/s]\n"
     ]
    },
    {
     "name": "stdout",
     "output_type": "stream",
     "text": [
      "Running simulations on: gat\n"
     ]
    },
    {
     "name": "stderr",
     "output_type": "stream",
     "text": [
      "Running evaluations: 100%|███████████████████████████████████████████████████████████| 100/100 [00:35<00:00,  2.78it/s]\n",
      "Running evaluations: 100%|███████████████████████████████████████████████████████████| 100/100 [00:36<00:00,  2.76it/s]\n"
     ]
    },
    {
     "name": "stdout",
     "output_type": "stream",
     "text": [
      "Running simulations on: supergat\n"
     ]
    },
    {
     "name": "stderr",
     "output_type": "stream",
     "text": [
      "Running evaluations: 100%|███████████████████████████████████████████████████████████| 100/100 [00:36<00:00,  2.76it/s]\n",
      "Running evaluations: 100%|███████████████████████████████████████████████████████████| 100/100 [00:36<00:00,  2.73it/s]\n"
     ]
    },
    {
     "name": "stdout",
     "output_type": "stream",
     "text": [
      "Running simulations on: sage\n"
     ]
    },
    {
     "name": "stderr",
     "output_type": "stream",
     "text": [
      "Running evaluations: 100%|███████████████████████████████████████████████████████████| 100/100 [00:36<00:00,  2.76it/s]\n",
      "Running evaluations: 100%|███████████████████████████████████████████████████████████| 100/100 [00:35<00:00,  2.80it/s]\n"
     ]
    },
    {
     "name": "stdout",
     "output_type": "stream",
     "text": [
      "60\n",
      "Running simulations on: gcn\n"
     ]
    },
    {
     "name": "stderr",
     "output_type": "stream",
     "text": [
      "Running evaluations: 100%|███████████████████████████████████████████████████████████| 100/100 [00:15<00:00,  6.27it/s]\n",
      "Running evaluations: 100%|███████████████████████████████████████████████████████████| 100/100 [00:15<00:00,  6.25it/s]\n"
     ]
    },
    {
     "name": "stdout",
     "output_type": "stream",
     "text": [
      "Running simulations on: gat\n"
     ]
    },
    {
     "name": "stderr",
     "output_type": "stream",
     "text": [
      "Running evaluations: 100%|███████████████████████████████████████████████████████████| 100/100 [00:15<00:00,  6.31it/s]\n",
      "Running evaluations: 100%|███████████████████████████████████████████████████████████| 100/100 [00:17<00:00,  5.87it/s]\n"
     ]
    },
    {
     "name": "stdout",
     "output_type": "stream",
     "text": [
      "Running simulations on: supergat\n"
     ]
    },
    {
     "name": "stderr",
     "output_type": "stream",
     "text": [
      "Running evaluations: 100%|███████████████████████████████████████████████████████████| 100/100 [00:16<00:00,  6.22it/s]\n",
      "Running evaluations: 100%|███████████████████████████████████████████████████████████| 100/100 [00:15<00:00,  6.26it/s]\n"
     ]
    },
    {
     "name": "stdout",
     "output_type": "stream",
     "text": [
      "Running simulations on: sage\n"
     ]
    },
    {
     "name": "stderr",
     "output_type": "stream",
     "text": [
      "Running evaluations: 100%|███████████████████████████████████████████████████████████| 100/100 [00:16<00:00,  6.22it/s]\n",
      "Running evaluations: 100%|███████████████████████████████████████████████████████████| 100/100 [00:16<00:00,  6.24it/s]\n"
     ]
    }
   ],
   "source": [
    "model_name_list = [\"gcn\", \"gat\", \"supergat\", \"sage\"]\n",
    "data_list = [\"Cora\", \"CiteSeer\", \"facebook\", \"wiki\", \"ES\", \"LastFMAsia\", \"60\"]\n",
    "for data in data_list:\n",
    "    print(data)\n",
    "    run_simulations_function(model_name_list, data, n_simulations=100, eval_type=\"c\")"
   ]
  },
  {
   "cell_type": "code",
   "execution_count": null,
   "id": "f2fb59b8-81b0-4c85-bf81-4a0f16eda6d2",
   "metadata": {},
   "outputs": [],
   "source": []
  }
 ],
 "metadata": {
  "kernelspec": {
   "display_name": "Python 3 (ipykernel)",
   "language": "python",
   "name": "python3"
  },
  "language_info": {
   "codemirror_mode": {
    "name": "ipython",
    "version": 3
   },
   "file_extension": ".py",
   "mimetype": "text/x-python",
   "name": "python",
   "nbconvert_exporter": "python",
   "pygments_lexer": "ipython3",
   "version": "3.10.15"
  }
 },
 "nbformat": 4,
 "nbformat_minor": 5
}
