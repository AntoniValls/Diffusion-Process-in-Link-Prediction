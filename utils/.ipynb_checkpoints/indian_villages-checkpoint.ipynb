{
 "cells": [
  {
   "cell_type": "code",
   "execution_count": null,
   "id": "21eeadd9-0097-46ab-b947-bac439f80afd",
   "metadata": {},
   "outputs": [],
   "source": [
    "import torch\n",
    "from torch_geometric.data import Data, Dataset\n",
    "import torch_geometric.transforms as T\n",
    "import numpy as np\n",
    "import os\n",
    "import os.path as osp\n",
    "\n",
    "\n",
    "class IndianVillages(Dataset):\n",
    "    def __init__(self, root, adj, transform=None, pre_transform=None):\n",
    "        \"\"\"\n",
    "        root = Where the dataset should be stored. This folder is split\n",
    "        into raw_dir (downloaded dataset) and processed_dir (processed data). \n",
    "        \"\"\"\n",
    "        self.adj_matrix = adj\n",
    "        self.transform = transform\n",
    "        self.pretransform = pre_transform\n",
    "        super(IndianVillages, self).__init__(root, transform, pre_transform)\n",
    "        \n",
    "    @property\n",
    "    def raw_file_names(self):\n",
    "        \"\"\" If this file exists in raw_dir, the download is not triggered.\n",
    "            (The download func. is not implemented here)  \n",
    "        \"\"\"\n",
    "        return \"IndianVillages.csv\"\n",
    "\n",
    "    @property\n",
    "    def processed_file_names(self):\n",
    "        \"\"\" If these files are found in raw_dir, processing is skipped\"\"\"\n",
    "        return \"not_implemented.pt\"\n",
    "\n",
    "    def download(self):\n",
    "        pass\n",
    "\n",
    "    def process(self):\n",
    "        row, col = np.where(self.adj_matrix > 0)\n",
    "        edge_index = torch.tensor(np.array([row, col]), dtype=torch.long)\n",
    "        num_nodes = self.adj_matrix.shape[0]\n",
    "        x = torch.eye(num_nodes, dtype=torch.float)  # Dummy node features\n",
    "        self.data = Data(x=x, edge_index=edge_index)\n",
    "\n",
    "        self.data = self.data if self.pre_transform is None else self.pre_transform(self.data)\n",
    "\n",
    "        torch.save(self.data, os.path.join(self.processed_dir, f'data.pt'))\n",
    "\n",
    "    def len(self):\n",
    "        return self.data.num_nodes\n",
    "\n",
    "    def get(self, idx):\n",
    "        ''' Here the idx isnt usefull as we only have 1 graph. Possible useful if I load all the villages '''\n",
    "        data = torch.load(os.path.join(self.processed_dir, \n",
    "                                 f'data.pt'))\n",
    "            \n",
    "        return data"
   ]
  }
 ],
 "metadata": {
  "jupytext": {
   "formats": "ipynb,auto:light"
  },
  "kernelspec": {
   "display_name": "Python 3 (ipykernel)",
   "language": "python",
   "name": "python3"
  },
  "language_info": {
   "codemirror_mode": {
    "name": "ipython",
    "version": 3
   },
   "file_extension": ".py",
   "mimetype": "text/x-python",
   "name": "python",
   "nbconvert_exporter": "python",
   "pygments_lexer": "ipython3",
   "version": "3.12.4"
  }
 },
 "nbformat": 4,
 "nbformat_minor": 5
}
